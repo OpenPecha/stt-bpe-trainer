{
 "cells": [
  {
   "cell_type": "code",
   "execution_count": 2,
   "id": "db3bad96",
   "metadata": {},
   "outputs": [],
   "source": [
    "import pandas as pd \n",
    "\n",
    "df = pd.read_csv(\"train.csv\")"
   ]
  },
  {
   "cell_type": "code",
   "execution_count": 3,
   "id": "2b056bba",
   "metadata": {},
   "outputs": [],
   "source": [
    "TT_df = df[df['dept']== 'STT_TT']"
   ]
  },
  {
   "cell_type": "code",
   "execution_count": 4,
   "id": "9c8e4851",
   "metadata": {},
   "outputs": [
    {
     "data": {
      "text/plain": [
       "439064"
      ]
     },
     "execution_count": 4,
     "metadata": {},
     "output_type": "execute_result"
    }
   ],
   "source": [
    "len(TT_df)"
   ]
  },
  {
   "cell_type": "code",
   "execution_count": 5,
   "id": "56be852c",
   "metadata": {},
   "outputs": [
    {
     "data": {
      "text/plain": [
       "913173"
      ]
     },
     "execution_count": 5,
     "metadata": {},
     "output_type": "execute_result"
    }
   ],
   "source": [
    "len(df)"
   ]
  },
  {
   "cell_type": "code",
   "execution_count": 6,
   "id": "68ea09d5",
   "metadata": {},
   "outputs": [
    {
     "data": {
      "text/plain": [
       "Index(['file_name', 'uni', 'wylie', 'url', 'dept', 'grade', 'char_len',\n",
       "       'audio_len'],\n",
       "      dtype='object')"
      ]
     },
     "execution_count": 6,
     "metadata": {},
     "output_type": "execute_result"
    }
   ],
   "source": [
    "TT_df.columns"
   ]
  },
  {
   "cell_type": "code",
   "execution_count": 7,
   "id": "3333d624",
   "metadata": {},
   "outputs": [
    {
     "data": {
      "text/plain": [
       "0     ག་ལ་གང་འཚམ་གི་ཕན་ཐོགས་ཡོད་ངེ་ཅིག རེད་བསྡད་ཡོད་...\n",
       "1     ཨེ། མྱོང་བར་འགྱུར་བ་ངེས་པའི་ལས་ནི། བསམ་བཞིན་དུ...\n",
       "6                              བོད་སྐད་ཐོག་ལ་ཡོད་རེད།  \n",
       "8     ཆགས་པ་འགོག་ཡ་གི་ཆེད་དུ། སྔ་མ་ཡ་གིའི་སྐྱེས་བུ་འ...\n",
       "10    སྐྱེ་ས་ཨ་མི་ར་ཀར་སྐྱེས་པ་ཡིན་ནའང་ཨ། སོ་སོའི་ཕུ...\n",
       "Name: uni, dtype: object"
      ]
     },
     "execution_count": 7,
     "metadata": {},
     "output_type": "execute_result"
    }
   ],
   "source": [
    "TT_df['uni'].head()"
   ]
  },
  {
   "cell_type": "code",
   "execution_count": 8,
   "id": "8bae42f8",
   "metadata": {},
   "outputs": [],
   "source": [
    "TT_df['uni'].to_csv('generalcorpus.txt', index=False)"
   ]
  },
  {
   "cell_type": "code",
   "execution_count": 9,
   "id": "d87c1791",
   "metadata": {},
   "outputs": [],
   "source": [
    "TT_df.to_csv(\"TT_df.csv\", index=False)"
   ]
  },
  {
   "cell_type": "code",
   "execution_count": 8,
   "id": "367f4aa8",
   "metadata": {},
   "outputs": [],
   "source": [
    "text = TT_df['uni'].to_list()"
   ]
  },
  {
   "cell_type": "code",
   "execution_count": 9,
   "id": "e7583c2c",
   "metadata": {},
   "outputs": [
    {
     "data": {
      "text/plain": [
       "439064"
      ]
     },
     "execution_count": 9,
     "metadata": {},
     "output_type": "execute_result"
    }
   ],
   "source": [
    "len(text)"
   ]
  },
  {
   "cell_type": "code",
   "execution_count": 10,
   "id": "45337c93",
   "metadata": {},
   "outputs": [
    {
     "name": "stderr",
     "output_type": "stream",
     "text": [
      "/tmp/ipykernel_46068/1849250700.py:1: SettingWithCopyWarning: \n",
      "A value is trying to be set on a copy of a slice from a DataFrame.\n",
      "Try using .loc[row_indexer,col_indexer] = value instead\n",
      "\n",
      "See the caveats in the documentation: https://pandas.pydata.org/pandas-docs/stable/user_guide/indexing.html#returning-a-view-versus-a-copy\n",
      "  TT_df['char_len'] = TT_df['uni'].apply(len)\n"
     ]
    }
   ],
   "source": [
    "TT_df['char_len'] = TT_df['uni'].apply(len)"
   ]
  },
  {
   "cell_type": "code",
   "execution_count": 11,
   "id": "f3dce1ca",
   "metadata": {},
   "outputs": [
    {
     "data": {
      "text/plain": [
       "np.int64(22786464)"
      ]
     },
     "execution_count": 11,
     "metadata": {},
     "output_type": "execute_result"
    }
   ],
   "source": [
    "TT_df['char_len'].sum()"
   ]
  },
  {
   "cell_type": "code",
   "execution_count": 12,
   "id": "0aa2a413",
   "metadata": {},
   "outputs": [],
   "source": [
    "gr_df = pd.read_csv(\"gr_submitted.csv\")"
   ]
  },
  {
   "cell_type": "code",
   "execution_count": 13,
   "id": "163dff77",
   "metadata": {},
   "outputs": [],
   "source": [
    "gr_df[\"char_len\"] = gr_df[\"transcript\"].str.len()"
   ]
  },
  {
   "cell_type": "code",
   "execution_count": 14,
   "id": "246baec4",
   "metadata": {},
   "outputs": [
    {
     "data": {
      "text/plain": [
       "np.float64(1597296.0)"
      ]
     },
     "execution_count": 14,
     "metadata": {},
     "output_type": "execute_result"
    }
   ],
   "source": [
    "gr_df[\"char_len\"].sum()"
   ]
  },
  {
   "cell_type": "code",
   "execution_count": 15,
   "id": "1169fe6c",
   "metadata": {},
   "outputs": [
    {
     "data": {
      "text/plain": [
       "np.float64(14.265648946719956)"
      ]
     },
     "execution_count": 15,
     "metadata": {},
     "output_type": "execute_result"
    }
   ],
   "source": [
    "TT_df['char_len'].sum()/gr_df[\"char_len\"].sum()"
   ]
  },
  {
   "cell_type": "code",
   "execution_count": 17,
   "id": "c7451d2b",
   "metadata": {},
   "outputs": [
    {
     "name": "stderr",
     "output_type": "stream",
     "text": [
      "/tmp/ipykernel_46068/945655191.py:1: SettingWithCopyWarning: \n",
      "A value is trying to be set on a copy of a slice from a DataFrame.\n",
      "Try using .loc[row_indexer,col_indexer] = value instead\n",
      "\n",
      "See the caveats in the documentation: https://pandas.pydata.org/pandas-docs/stable/user_guide/indexing.html#returning-a-view-versus-a-copy\n",
      "  TT_df[\"syl_len\"] = TT_df[\"uni\"].str.split(\"་\").str.len()\n"
     ]
    }
   ],
   "source": [
    "TT_df[\"syl_len\"] = TT_df[\"uni\"].str.split(\"་\").str.len()\n"
   ]
  },
  {
   "cell_type": "code",
   "execution_count": 18,
   "id": "b7814887",
   "metadata": {},
   "outputs": [
    {
     "data": {
      "text/plain": [
       "np.int64(5820510)"
      ]
     },
     "execution_count": 18,
     "metadata": {},
     "output_type": "execute_result"
    }
   ],
   "source": [
    "TT_df[\"syl_len\"].sum()"
   ]
  },
  {
   "cell_type": "code",
   "execution_count": 20,
   "id": "0628686b",
   "metadata": {},
   "outputs": [],
   "source": [
    "gr_df[\"syl_len\"] = gr_df[\"transcript\"].str.split(\"་\").str.len()"
   ]
  },
  {
   "cell_type": "code",
   "execution_count": 21,
   "id": "edf67f8d",
   "metadata": {},
   "outputs": [
    {
     "data": {
      "text/plain": [
       "np.float64(409790.0)"
      ]
     },
     "execution_count": 21,
     "metadata": {},
     "output_type": "execute_result"
    }
   ],
   "source": [
    "gr_df[\"syl_len\"].sum()"
   ]
  },
  {
   "cell_type": "code",
   "execution_count": null,
   "id": "30d74fbb",
   "metadata": {},
   "outputs": [],
   "source": []
  }
 ],
 "metadata": {
  "kernelspec": {
   "display_name": "Python 3",
   "language": "python",
   "name": "python3"
  },
  "language_info": {
   "codemirror_mode": {
    "name": "ipython",
    "version": 3
   },
   "file_extension": ".py",
   "mimetype": "text/x-python",
   "name": "python",
   "nbconvert_exporter": "python",
   "pygments_lexer": "ipython3",
   "version": "3.10.12"
  }
 },
 "nbformat": 4,
 "nbformat_minor": 5
}
